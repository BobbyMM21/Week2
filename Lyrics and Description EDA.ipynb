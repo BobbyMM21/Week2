{
 "cells": [
  {
   "cell_type": "markdown",
   "id": "7f79baf9",
   "metadata": {},
   "source": [
    "# ADS 509 Assignment 2.1: Tokenization, Normalization, Descriptive Statistics \n",
    "\n",
    "This notebook holds Assignment 2.1 for Module 2 in ADS 509, Applied Text Mining. Work through this notebook, writing code and answering questions where required. \n",
    "\n",
    "In the previous assignment you pulled lyrics data on two artists. In this assignment we explore this data set and a pull from the now-defunct Twitter API for the artists Cher and Robyn.  If, for some reason, you did not complete that previous assignment, data to use for this assignment can be found in the assignment materials section of Canvas. \n",
    "\n",
    "This assignment asks you to write a short function to calculate some descriptive statistics on a piece of text. Then you are asked to find some interesting and unique statistics on your corpora. \n"
   ]
  },
  {
   "cell_type": "markdown",
   "id": "aae8e2e1",
   "metadata": {},
   "source": [
    "## General Assignment Instructions\n",
    "\n",
    "These instructions are included in every assignment, to remind you of the coding standards for the class. Feel free to delete this cell after reading it. \n",
    "\n",
    "One sign of mature code is conforming to a style guide. We recommend the [Google Python Style Guide](https://google.github.io/styleguide/pyguide.html). If you use a different style guide, please include a cell with a link. \n",
    "\n",
    "Your code should be relatively easy-to-read, sensibly commented, and clean. Writing code is a messy process, so please be sure to edit your final submission. Remove any cells that are not needed or parts of cells that contain unnecessary code. Remove inessential `import` statements and make sure that all such statements are moved into the designated cell. \n",
    "\n",
    "Make use of non-code cells for written commentary. These cells should be grammatical and clearly written. In some of these cells you will have questions to answer. The questions will be marked by a \"Q:\" and will have a corresponding \"A:\" spot for you. *Make sure to answer every question marked with a `Q:` for full credit.* \n"
   ]
  },
  {
   "cell_type": "code",
   "execution_count": 31,
   "id": "9b57f4f4",
   "metadata": {},
   "outputs": [
    {
     "name": "stdout",
     "output_type": "stream",
     "text": [
      "Requirement already satisfied: emoji in /Users/bobbymarriott/anaconda3/lib/python3.10/site-packages (2.14.1)\r\n"
     ]
    }
   ],
   "source": [
    "import sys\n",
    "!{sys.executable} -m pip install emoji"
   ]
  },
  {
   "cell_type": "code",
   "execution_count": 32,
   "id": "b7954520",
   "metadata": {},
   "outputs": [
    {
     "name": "stderr",
     "output_type": "stream",
     "text": [
      "[nltk_data] Downloading package stopwords to\n",
      "[nltk_data]     /Users/bobbymarriott/nltk_data...\n",
      "[nltk_data]   Package stopwords is already up-to-date!\n"
     ]
    },
    {
     "data": {
      "text/plain": [
       "True"
      ]
     },
     "execution_count": 32,
     "metadata": {},
     "output_type": "execute_result"
    }
   ],
   "source": [
    "import nltk\n",
    "# only need to run this once per environment\n",
    "nltk.download(\"stopwords\")"
   ]
  },
  {
   "cell_type": "code",
   "execution_count": 33,
   "id": "e2d096b7",
   "metadata": {},
   "outputs": [],
   "source": [
    "import os\n",
    "import re\n",
    "import emoji\n",
    "import pandas as pd\n",
    "import numpy as np\n",
    "\n",
    "from collections import Counter, defaultdict\n",
    "from nltk.corpus import stopwords\n",
    "from string import punctuation\n",
    "\n",
    "sw = stopwords.words(\"english\")"
   ]
  },
  {
   "cell_type": "code",
   "execution_count": 42,
   "id": "6b555ab2",
   "metadata": {},
   "outputs": [],
   "source": [
    "# Add any additional import statements you need here\n",
    "import json\n",
    "import matplotlib.pyplot as plt"
   ]
  },
  {
   "cell_type": "code",
   "execution_count": 43,
   "id": "923b5a86",
   "metadata": {},
   "outputs": [
    {
     "name": "stdout",
     "output_type": "stream",
     "text": [
      "Twitter files: ['.DS_Store', 'cher_followers_data.txt', 'robynkonichiwa_followers_data.txt', 'cher_followers.txt', 'robynkonichiwa_followers.txt']\n",
      "Lyrics artists: ['robyn', 'cher']\n"
     ]
    }
   ],
   "source": [
    "# change `data_location` to the location of the folder on your machine.\n",
    "data_location = \"/Users/bobbymarriott/Downloads/M1 Results\"\n",
    "\n",
    "# These subfolders should still work if you correctly stored the \n",
    "# data from the Module 1 assignment\n",
    "twitter_folder = \"twitter\"\n",
    "lyrics_folder = \"lyrics\"\n",
    "\n",
    "# build the full paths\n",
    "import os\n",
    "twitter_path = os.path.join(data_location, twitter_folder)\n",
    "lyrics_path  = os.path.join(data_location, lyrics_folder)\n",
    "\n",
    "print(\"Twitter files:\", os.listdir(twitter_path))\n",
    "print(\"Lyrics artists:\", os.listdir(lyrics_path))"
   ]
  },
  {
   "cell_type": "code",
   "execution_count": 44,
   "id": "17421891",
   "metadata": {},
   "outputs": [],
   "source": [
    "def descriptive_stats(tokens, num_common=5, verbose=True):\n",
    "    \"\"\"\n",
    "    Given a list of tokens, print number of tokens, number of unique tokens,\n",
    "    number of characters, lexical diversity, and the num_common most common tokens.\n",
    "    Return [N, V, TTR, chars].\n",
    "    \"\"\"\n",
    "    # 1) total number of tokens\n",
    "    N = len(tokens)\n",
    "\n",
    "    # 2) unique tokens\n",
    "    V = len(set(tokens))\n",
    "\n",
    "    # 3) lexical diversity\n",
    "    TTR = V / N if N > 0 else 0.0\n",
    "\n",
    "    # 4) total characters (sum of token lengths)\n",
    "    chars = sum(len(t) for t in tokens)\n",
    "\n",
    "    if verbose:\n",
    "        print(f\"There are {N} tokens in the data.\")\n",
    "        print(f\"There are {V} unique tokens in the data.\")\n",
    "        print(f\"There are {chars} characters in the data.\")\n",
    "        print(f\"The lexical diversity is {TTR:.3f} in the data.\")\n",
    "\n",
    "        # 5) print the most common tokens\n",
    "        most_common = Counter(tokens).most_common(num_common)\n",
    "        print(f\"\\nThe {num_common} most common tokens are:\")\n",
    "        for word, count in most_common:\n",
    "            print(f\"  {word}: {count}\")\n",
    "\n",
    "    return [N, V, TTR, chars]"
   ]
  },
  {
   "cell_type": "markdown",
   "id": "6630d736",
   "metadata": {},
   "source": [
    "def descriptive_stats(tokens, num_tokens = 5, verbose=True) :\n",
    "    \"\"\"\n",
    "        Given a list of tokens, print number of tokens, number of unique tokens, \n",
    "        number of characters, lexical diversity (https://en.wikipedia.org/wiki/Lexical_diversity), \n",
    "        and num_tokens most common tokens. Return a list with the number of tokens, number\n",
    "        of unique tokens, lexical diversity, and number of characters. \n",
    "    \n",
    "    \"\"\"\n",
    "\n",
    "    # Fill in the correct values here. \n",
    "    num_tokens = 0\n",
    "    num_unique_tokens = 0\n",
    "    lexical_diversity = 0.0\n",
    "    num_characters = 0\n",
    "    \n",
    "    if verbose :        \n",
    "        print(f\"There are {num_tokens} tokens in the data.\")\n",
    "        print(f\"There are {num_unique_tokens} unique tokens in the data.\")\n",
    "        print(f\"There are {num_characters} characters in the data.\")\n",
    "        print(f\"The lexical diversity is {lexical_diversity:.3f} in the data.\")\n",
    "    \n",
    "        # print the five most common tokens\n",
    "        \n",
    "    return([num_tokens, num_unique_tokens,\n",
    "            lexical_diversity,\n",
    "            num_characters])\n",
    "    "
   ]
  },
  {
   "cell_type": "code",
   "execution_count": 45,
   "id": "59dcf058",
   "metadata": {},
   "outputs": [
    {
     "name": "stdout",
     "output_type": "stream",
     "text": [
      "There are 13 tokens in the data.\n",
      "There are 9 unique tokens in the data.\n",
      "There are 55 characters in the data.\n",
      "The lexical diversity is 0.692 in the data.\n",
      "\n",
      "The 5 most common tokens are:\n",
      "  text: 3\n",
      "  here: 2\n",
      "  example: 2\n",
      "  is: 1\n",
      "  some: 1\n"
     ]
    }
   ],
   "source": [
    "text = \"\"\"here is some example text with other example text here in this text\"\"\".split()\n",
    "assert(descriptive_stats(text, verbose=True)[0] == 13)\n",
    "assert(descriptive_stats(text, verbose=False)[1] == 9)\n",
    "assert(abs(descriptive_stats(text, verbose=False)[2] - 0.69) < 0.02)\n",
    "assert(descriptive_stats(text, verbose=False)[3] == 55)\n"
   ]
  },
  {
   "cell_type": "markdown",
   "id": "d2e7e1a2",
   "metadata": {},
   "source": [
    "Q: Why is it beneficial to use assertion statements in your code? \n",
    "\n",
    "A: These statements allow you to debug easier by catching logic errors early."
   ]
  },
  {
   "cell_type": "markdown",
   "id": "9d3bf93e",
   "metadata": {},
   "source": [
    "## Data Input\n",
    "\n",
    "Now read in each of the corpora. For the lyrics data, it may be convenient to store the entire contents of the file to make it easier to inspect the titles individually, as you'll do in the last part of the assignment. In the solution, I stored the lyrics data in a dictionary with two dimensions of keys: artist and song. The value was the file contents. A data frame would work equally well. \n",
    "\n",
    "For the Twitter data, we only need the description field for this assignment. Feel free all the descriptions read it into a data structure. In the solution, I stored the descriptions as a dictionary of lists, with the key being the artist. \n",
    "\n",
    "\n"
   ]
  },
  {
   "cell_type": "code",
   "execution_count": 46,
   "id": "37d70801",
   "metadata": {},
   "outputs": [
    {
     "name": "stdout",
     "output_type": "stream",
     "text": [
      "robyn: loaded 104 songs\n",
      "cher: loaded 316 songs\n"
     ]
    }
   ],
   "source": [
    "# Read in the lyrics data\n",
    "\n",
    "# build the full path to your lyrics folder\n",
    "lyrics_path = os.path.join(data_location, lyrics_folder)\n",
    "\n",
    "# we'll store as: lyrics_data[artist] = [song1_text, song2_text, …]\n",
    "lyrics_data = {}\n",
    "\n",
    "for artist in os.listdir(lyrics_path):\n",
    "    artist_dir = os.path.join(lyrics_path, artist)\n",
    "    if not os.path.isdir(artist_dir):\n",
    "        continue\n",
    "\n",
    "    song_texts = []\n",
    "    for fname in os.listdir(artist_dir):\n",
    "        if fname.endswith(\".txt\"):\n",
    "            with open(os.path.join(artist_dir, fname), encoding=\"utf-8\") as f:\n",
    "                song_texts.append(f.read())\n",
    "    lyrics_data[artist] = song_texts\n",
    "\n",
    "# sanity check\n",
    "for artist, songs in lyrics_data.items():\n",
    "    print(f\"{artist}: loaded {len(songs)} songs\")"
   ]
  },
  {
   "cell_type": "code",
   "execution_count": 49,
   "id": "78965d1b",
   "metadata": {},
   "outputs": [
    {
     "name": "stdout",
     "output_type": "stream",
     "text": [
      "--- RAW LINES ---\n",
      "screen_name\tname\tid\tlocation\tfollowers_count\tfriends_count\tdescription\n",
      "hsmcnp\tCountry Girl\t35152213\t\t1302\t1014\n",
      "horrormomy\tJeny\t742153090850164742\tEarth\t81\t514\t𝙿𝚛𝚘𝚞𝚍 𝚜𝚞𝚙𝚙𝚘𝚛𝚝𝚎𝚛 𝚘𝚏 𝚖𝚎𝚜𝚜𝚢 𝚋𝚞𝚗𝚜 & 𝚕𝚎𝚐𝚐𝚒𝚗𝚐𝚜\n",
      "anju79990584\tanju\t1496463006451974150\t\t13\t140\t163㎝／愛かっぷ💜26歳🍒 工〇好きな女の子💓 フォローしてくれたらDMします🧡\n",
      "gallionjenna\tJ\t3366479914\t\t752\t556\tcsu\n",
      "\n",
      "Detected delimiter: '\\t'\n",
      "\n",
      "Columns: ['screen_name', 'name', 'id', 'location', 'followers_count', 'friends_count', 'description']\n"
     ]
    }
   ],
   "source": [
    "twitter_path = os.path.join(data_location, twitter_folder)\n",
    "fname = [f for f in os.listdir(twitter_path) if f.lower().startswith(\"cher_\")][0]\n",
    "path  = os.path.join(twitter_path, fname)\n",
    "\n",
    "# 1) Print the first few raw lines so we can see the delimiter\n",
    "print(\"--- RAW LINES ---\")\n",
    "with open(path, encoding=\"utf-8\") as f:\n",
    "    for _ in range(5):\n",
    "        print(f.readline().rstrip())\n",
    "\n",
    "# 2) Let Python sniff the delimiter\n",
    "import csv\n",
    "with open(path, encoding=\"utf-8\") as f:\n",
    "    sample = f.read(4096)\n",
    "dialect = csv.Sniffer().sniff(sample, delimiters=[\",\", \"\\t\", \";\", \"|\"])\n",
    "print(\"\\nDetected delimiter:\", repr(dialect.delimiter))\n",
    "\n",
    "# 3) Try reading just the header row to get column names\n",
    "import pandas as pd\n",
    "df_hdr = pd.read_csv(path, sep=dialect.delimiter, engine=\"python\", nrows=0)\n",
    "print(\"\\nColumns:\", df_hdr.columns.tolist())"
   ]
  },
  {
   "cell_type": "code",
   "execution_count": 51,
   "id": "debcac5a",
   "metadata": {},
   "outputs": [
    {
     "name": "stdout",
     "output_type": "stream",
     "text": [
      "Cher: loaded 3918103 descriptions\n",
      "Robyn: loaded 351729 descriptions\n",
      "→ Cher has 3918103 description records\n",
      "→ Robyn has 351729 description records\n"
     ]
    }
   ],
   "source": [
    "twitter_path = os.path.join(data_location, twitter_folder)\n",
    "twitter_desc = {}\n",
    "for fname in os.listdir(twitter_path):\n",
    "    if not fname.endswith(\"_followers_data.txt\"):\n",
    "        continue\n",
    "\n",
    "    # determine artist\n",
    "    lower = fname.lower()\n",
    "    artist = \"Cher\" if lower.startswith(\"cher_\") else \"Robyn\"\n",
    "\n",
    "    fullpath = os.path.join(twitter_path, fname)\n",
    "    df = pd.read_csv(\n",
    "        fullpath,\n",
    "        sep=\"\\t\",\n",
    "        engine=\"python\",\n",
    "        on_bad_lines=\"skip\"\n",
    "    )\n",
    "\n",
    "    # Now this will always exist\n",
    "    twitter_desc[artist] = df[\"description\"].fillna(\"\").tolist()\n",
    "    print(f\"{artist}: loaded {len(twitter_desc[artist])} descriptions\")\n",
    "\n",
    "# Final sanity check\n",
    "for artist, descs in twitter_desc.items():\n",
    "    print(f\"→ {artist} has {len(descs)} description records\")"
   ]
  },
  {
   "cell_type": "markdown",
   "id": "6a5f3b12",
   "metadata": {},
   "source": [
    "## Data Cleaning\n",
    "\n",
    "Now clean and tokenize your data. Remove punctuation chacters (available in the `punctuation` object in the `string` library), split on whitespace, fold to lowercase, and remove stopwords. Store your cleaned data, which must be accessible as an interable for `descriptive_stats`, in new objects or in new columns in your data frame. \n",
    "\n"
   ]
  },
  {
   "cell_type": "code",
   "execution_count": 52,
   "id": "dabb88ee",
   "metadata": {},
   "outputs": [],
   "source": [
    "sw = set(stopwords.words(\"english\"))\n",
    "punctuation = set(punctuation)   # speeds up “in” tests"
   ]
  },
  {
   "cell_type": "code",
   "execution_count": 53,
   "id": "b327033a",
   "metadata": {},
   "outputs": [
    {
     "name": "stdout",
     "output_type": "stream",
     "text": [
      "Cher: 15209428 cleaned tokens\n",
      "Robyn: 1457061 cleaned tokens\n"
     ]
    }
   ],
   "source": [
    "# create your clean twitter data here\n",
    "# Build a dict of cleaned tokens for each artist’s Twitter descriptions\n",
    "twitter_clean = {}\n",
    "\n",
    "for artist, descs in twitter_desc.items():\n",
    "    toks = []\n",
    "    for desc in descs:\n",
    "        for w in desc.split():\n",
    "            w2 = w.lower().strip(\"\".join(punctuation))\n",
    "            if w2 and w2 not in sw:\n",
    "                toks.append(w2)\n",
    "    twitter_clean[artist] = toks\n",
    "\n",
    "# Sanity check\n",
    "for artist, toks in twitter_clean.items():\n",
    "    print(f\"{artist}: {len(toks)} cleaned tokens\")"
   ]
  },
  {
   "cell_type": "code",
   "execution_count": 54,
   "id": "e0f22e10",
   "metadata": {},
   "outputs": [
    {
     "name": "stdout",
     "output_type": "stream",
     "text": [
      "robyn: 14127 cleaned tokens\n",
      "cher: 33467 cleaned tokens\n"
     ]
    }
   ],
   "source": [
    "# create your clean lyrics data here\n",
    "# Build a dict of cleaned tokens for each artist’s lyrics\n",
    "lyrics_clean = {}\n",
    "\n",
    "for artist, songs in lyrics_data.items():\n",
    "    toks = []\n",
    "    for song in songs:\n",
    "        for w in song.split():\n",
    "            w2 = w.lower().strip(\"\".join(punctuation))\n",
    "            if w2 and w2 not in sw:\n",
    "                toks.append(w2)\n",
    "    lyrics_clean[artist] = toks\n",
    "\n",
    "# Sanity check\n",
    "for artist, toks in lyrics_clean.items():\n",
    "    print(f\"{artist}: {len(toks)} cleaned tokens\")"
   ]
  },
  {
   "cell_type": "markdown",
   "id": "f2dd0179",
   "metadata": {},
   "source": [
    "## Basic Descriptive Statistics\n",
    "\n",
    "Call your `descriptive_stats` function on both your lyrics data and your twitter data and for both artists (four total calls). "
   ]
  },
  {
   "cell_type": "code",
   "execution_count": 57,
   "id": "a29904cd",
   "metadata": {},
   "outputs": [
    {
     "name": "stdout",
     "output_type": "stream",
     "text": [
      "dict_keys(['robyn', 'cher'])\n"
     ]
    }
   ],
   "source": [
    "print(lyrics_clean.keys())"
   ]
  },
  {
   "cell_type": "code",
   "execution_count": 59,
   "id": "f0bbedd9",
   "metadata": {},
   "outputs": [
    {
     "name": "stdout",
     "output_type": "stream",
     "text": [
      "There are 33467 tokens in the data.\n",
      "There are 3712 unique tokens in the data.\n",
      "There are 164699 characters in the data.\n",
      "The lexical diversity is 0.111 in the data.\n",
      "\n",
      "The 5 most common tokens are:\n",
      "  love: 1004\n",
      "  know: 486\n",
      "  time: 319\n",
      "  baby: 319\n",
      "  see: 308\n",
      "There are 14127 tokens in the data.\n",
      "There are 2141 unique tokens in the data.\n",
      "There are 70442 characters in the data.\n",
      "The lexical diversity is 0.152 in the data.\n",
      "\n",
      "The 5 most common tokens are:\n",
      "  know: 308\n",
      "  love: 275\n",
      "  got: 251\n",
      "  like: 232\n",
      "  baby: 222\n",
      "There are 15209428 tokens in the data.\n",
      "There are 1563522 unique tokens in the data.\n",
      "There are 92265095 characters in the data.\n",
      "The lexical diversity is 0.103 in the data.\n",
      "\n",
      "The 5 most common tokens are:\n",
      "  love: 210441\n",
      "  life: 120661\n",
      "  music: 86575\n",
      "  de: 71649\n",
      "  follow: 61401\n",
      "There are 1457061 tokens in the data.\n",
      "There are 254155 unique tokens in the data.\n",
      "There are 9100474 characters in the data.\n",
      "The lexical diversity is 0.174 in the data.\n",
      "\n",
      "The 5 most common tokens are:\n",
      "  music: 14922\n",
      "  love: 11493\n",
      "  och: 7789\n",
      "  life: 7255\n",
      "  de: 6274\n"
     ]
    },
    {
     "data": {
      "text/plain": [
       "[1457061, 254155, 0.17442989689518834, 9100474]"
      ]
     },
     "execution_count": 59,
     "metadata": {},
     "output_type": "execute_result"
    }
   ],
   "source": [
    "# calls to descriptive_stats here\n",
    "descriptive_stats( lyrics_clean['cher'] )\n",
    "descriptive_stats( lyrics_clean['robyn'] )\n",
    "descriptive_stats( twitter_clean['Cher'] )\n",
    "descriptive_stats( twitter_clean['Robyn'] )"
   ]
  },
  {
   "cell_type": "markdown",
   "id": "46294409",
   "metadata": {},
   "source": [
    "Q: How do you think the \"top 5 words\" would be different if we left stopwords in the data? \n",
    "\n",
    "A: The top-5 list would probably consist of words such as 'the', 'and', 'to', etc. This would get in the way of the more interesting and specific words. \n",
    "\n",
    "---\n",
    "\n",
    "Q: What were your prior beliefs about the lexical diversity between the artists? Does the difference (or lack thereof) in lexical diversity between the artists conform to your prior beliefs? \n",
    "\n",
    "A: Since Cher has a longer career and more diverse music I believed that she would have a higher type-token ratio. However, Robyn Lyrics (TTR 0.152 > 0.111) and Tweets (0.174 > 0.103) do not reflect that. \n"
   ]
  },
  {
   "cell_type": "markdown",
   "id": "4d4e1ac1",
   "metadata": {},
   "source": [
    "\n",
    "## Specialty Statistics\n",
    "\n",
    "The descriptive statistics we have calculated are quite generic. You will now calculate a handful of statistics tailored to these data.\n",
    "\n",
    "1. Ten most common emojis by artist in the twitter descriptions.\n",
    "1. Ten most common hashtags by artist in the twitter descriptions.\n",
    "1. Five most common words in song titles by artist. \n",
    "1. For each artist, a histogram of song lengths (in terms of number of tokens) \n",
    "\n",
    "We can use the `emoji` library to help us identify emojis and you have been given a function to help you.\n"
   ]
  },
  {
   "cell_type": "code",
   "execution_count": 60,
   "id": "753a5a3e",
   "metadata": {},
   "outputs": [],
   "source": [
    "assert(emoji.is_emoji(\"❤️\"))\n",
    "assert(not emoji.is_emoji(\":-)\"))"
   ]
  },
  {
   "cell_type": "markdown",
   "id": "986fc4c0",
   "metadata": {},
   "source": [
    "### Emojis 😁\n",
    "\n",
    "What are the ten most common emojis by artist in the twitter descriptions? \n"
   ]
  },
  {
   "cell_type": "code",
   "execution_count": 61,
   "id": "269cd433",
   "metadata": {},
   "outputs": [
    {
     "name": "stdout",
     "output_type": "stream",
     "text": [
      "\n",
      "Top 10 emojis for Cher:\n",
      "  ❤  77560\n",
      "  🌈  46613\n",
      "  ♥  33422\n",
      "  🏳  32759\n",
      "  ✨  28967\n",
      "  💙  20974\n",
      "  🏻  20532\n",
      "  🌊  19866\n",
      "  ✌  16422\n",
      "  💜  16256\n",
      "\n",
      "Top 10 emojis for Robyn:\n",
      "  ❤  4663\n",
      "  🌈  4581\n",
      "  🏳  3448\n",
      "  ♥  3050\n",
      "  ✨  2177\n",
      "  🏻  1473\n",
      "  ✌  1176\n",
      "  🏼  1113\n",
      "  ♀  819\n",
      "  💙  788\n"
     ]
    }
   ],
   "source": [
    "for artist, descs in twitter_desc.items():\n",
    "    counts = Counter()\n",
    "    for desc in descs:\n",
    "        for ch in desc:\n",
    "            if emoji.is_emoji(ch):\n",
    "                counts[ch] += 1\n",
    "\n",
    "    print(f\"\\nTop 10 emojis for {artist}:\")\n",
    "    for em, cnt in counts.most_common(10):\n",
    "        print(f\"  {em}  {cnt}\")"
   ]
  },
  {
   "cell_type": "markdown",
   "id": "bab9b770",
   "metadata": {},
   "source": [
    "### Hashtags\n",
    "\n",
    "What are the ten most common hashtags by artist in the twitter descriptions? \n"
   ]
  },
  {
   "cell_type": "code",
   "execution_count": 62,
   "id": "07c396f1",
   "metadata": {},
   "outputs": [
    {
     "name": "stdout",
     "output_type": "stream",
     "text": [
      "\n",
      "Top 10 hashtags for Cher:\n",
      "  #resist  11419\n",
      "  #blm  10258\n",
      "  #blacklivesmatter  7989\n",
      "  #theresistance  3439\n",
      "  #fbr  3356\n",
      "  #resistance  3002\n",
      "  #1  2585\n",
      "  #voteblue  2255\n",
      "  #lgbtq  2040\n",
      "  #music  1576\n",
      "\n",
      "Top 10 hashtags for Robyn:\n",
      "  #blacklivesmatter  592\n",
      "  #blm  356\n",
      "  #music  302\n",
      "  #1  197\n",
      "  #teamfollowback  135\n",
      "  #edm  110\n",
      "  #lgbtq  88\n",
      "  #resist  84\n",
      "  #travel  71\n",
      "  #love  71\n"
     ]
    }
   ],
   "source": [
    "HASHTAG_RE = re.compile(r\"#\\w+\")\n",
    "\n",
    "for artist, descs in twitter_desc.items():\n",
    "    counts = Counter()\n",
    "    for desc in descs:\n",
    "        for tag in HASHTAG_RE.findall(desc):\n",
    "            counts[tag.lower()] += 1\n",
    "\n",
    "    print(f\"\\nTop 10 hashtags for {artist}:\")\n",
    "    for tag, cnt in counts.most_common(10):\n",
    "        print(f\"  {tag}  {cnt}\")"
   ]
  },
  {
   "cell_type": "markdown",
   "id": "d10f21d5",
   "metadata": {},
   "source": [
    "### Song Titles\n",
    "\n",
    "What are the five most common words in song titles by artist? The song titles should be on the first line of the lyrics pages, so if you have kept the raw file contents around, you will not need to re-read the data.\n"
   ]
  },
  {
   "cell_type": "code",
   "execution_count": 64,
   "id": "00b71bc4",
   "metadata": {},
   "outputs": [],
   "source": [
    "def words(text):\n",
    "    \"\"\"Peter Norvig’s simple word tokenizer.\"\"\"\n",
    "    return re.findall(r\"\\w+\", text.lower())"
   ]
  },
  {
   "cell_type": "code",
   "execution_count": 66,
   "id": "bb69b36b",
   "metadata": {},
   "outputs": [
    {
     "name": "stdout",
     "output_type": "stream",
     "text": [
      "\n",
      "Top 5 title‐words for robyn:\n",
      "  love  6\n",
      "  u  4\n",
      "  hang  3\n",
      "  tell  3\n",
      "  girl  3\n",
      "\n",
      "Top 5 title‐words for cher:\n",
      "  love  38\n",
      "  man  15\n",
      "  song  11\n",
      "  come  7\n",
      "  one  7\n"
     ]
    }
   ],
   "source": [
    "for artist, songs in lyrics_data.items():\n",
    "    counts = Counter()\n",
    "    for full_text in songs:\n",
    "        title = full_text.splitlines()[0]\n",
    "        # inline tokenization\n",
    "        for w in re.findall(r\"\\w+\", title.lower()):\n",
    "            w = w.strip(\"\".join(punctuation))\n",
    "            if w and w not in sw:\n",
    "                counts[w] += 1\n",
    "\n",
    "    print(f\"\\nTop 5 title‐words for {artist}:\")\n",
    "    for w, cnt in counts.most_common(5):\n",
    "        print(f\"  {w}  {cnt}\")"
   ]
  },
  {
   "cell_type": "markdown",
   "id": "5dd4fd71",
   "metadata": {},
   "source": [
    "### Song Lengths\n",
    "\n",
    "For each artist, a histogram of song lengths (in terms of number of tokens). If you put the song lengths in a data frame with an artist column, matplotlib will make the plotting quite easy. An example is given to help you out. \n"
   ]
  },
  {
   "cell_type": "code",
   "execution_count": 67,
   "id": "805a1e52",
   "metadata": {},
   "outputs": [
    {
     "data": {
      "text/plain": [
       "artist\n",
       "Artist 1    Axes(0.125,0.11;0.775x0.77)\n",
       "Artist 2    Axes(0.125,0.11;0.775x0.77)\n",
       "Name: length, dtype: object"
      ]
     },
     "execution_count": 67,
     "metadata": {},
     "output_type": "execute_result"
    },
    {
     "data": {
      "image/png": "[encoded data removed]",
      "text/plain": [
       "<Figure size 640x480 with 1 Axes>"
      ]
     },
     "metadata": {},
     "output_type": "display_data"
    }
   ],
   "source": [
    "num_replicates = 1000\n",
    "\n",
    "df = pd.DataFrame({\n",
    "    \"artist\" : ['Artist 1'] * num_replicates + ['Artist 2']*num_replicates,\n",
    "    \"length\" : np.concatenate((np.random.poisson(125,num_replicates),np.random.poisson(150,num_replicates)))\n",
    "})\n",
    "\n",
    "df.groupby('artist')['length'].plot(kind=\"hist\",density=True,alpha=0.5,legend=True)"
   ]
  },
  {
   "cell_type": "markdown",
   "id": "8fde9ebb",
   "metadata": {},
   "source": [
    "Since the lyrics may be stored with carriage returns or tabs, it may be useful to have a function that can collapse whitespace, using regular expressions, and be used for splitting. \n",
    "\n",
    "Q: What does the regular expression `'\\s+'` match on? \n",
    "\n",
    "A: It matches any one or more whitespace character in a row. Any contiguous block of whitespace can be treated as a single delimeter.\n"
   ]
  },
  {
   "cell_type": "code",
   "execution_count": 68,
   "id": "f0e34516",
   "metadata": {},
   "outputs": [],
   "source": [
    "collapse_whitespace = re.compile(r'\\s+')\n",
    "\n",
    "def tokenize_lyrics(lyric) : \n",
    "    \"\"\"strip and split on whitespace\"\"\"\n",
    "    return([item.lower() for item in collapse_whitespace.split(lyric)])"
   ]
  },
  {
   "cell_type": "code",
   "execution_count": 70,
   "id": "2294c440",
   "metadata": {},
   "outputs": [
    {
     "data": {
      "image/png": "[encoded data removed]",
      "text/plain": [
       "<Figure size 640x480 with 1 Axes>"
      ]
     },
     "metadata": {},
     "output_type": "display_data"
    }
   ],
   "source": [
    "# Build a DataFrame of token counts per song using the whitespace tokenizer\n",
    "rows = []\n",
    "for artist, songs in lyrics_data.items():\n",
    "    for song_text in songs:\n",
    "        num_tokens = len(tokenize_lyrics(song_text))\n",
    "        rows.append({\"artist\": artist.capitalize(), \"length\": num_tokens})\n",
    "\n",
    "df_lengths = pd.DataFrame(rows)\n",
    "\n",
    "# Plot overlaid density histograms by artist\n",
    "ax = None\n",
    "for artist, group in df_lengths.groupby(\"artist\"):\n",
    "    ax = group[\"length\"].plot(\n",
    "        kind=\"hist\",\n",
    "        density=True,\n",
    "        alpha=0.5,\n",
    "        legend=True,\n",
    "        label=artist,\n",
    "        ax=ax\n",
    "    )\n",
    "\n",
    "plt.xlabel(\"Number of tokens\")\n",
    "plt.ylabel(\"Density\")\n",
    "plt.title(\"Song Length Distribution (Whitespace Tokens)\")\n",
    "plt.tight_layout()\n",
    "plt.show()"
   ]
  }
 ],
 "metadata": {
  "kernelspec": {
   "display_name": "Python 3 (ipykernel)",
   "language": "python",
   "name": "python3"
  },
  "language_info": {
   "codemirror_mode": {
    "name": "ipython",
    "version": 3
   },
   "file_extension": ".py",
   "mimetype": "text/x-python",
   "name": "python",
   "nbconvert_exporter": "python",
   "pygments_lexer": "ipython3",
   "version": "3.10.9"
  }
 },
 "nbformat": 4,
 "nbformat_minor": 5
}
